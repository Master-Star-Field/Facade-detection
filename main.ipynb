{
 "cells": [
  {
   "cell_type": "markdown",
   "id": "1bb119e1",
   "metadata": {},
   "source": [
    "## Маленький шаг для студента большой для бизнеса продажи недвижимости"
   ]
  },
  {
   "cell_type": "code",
   "execution_count": null,
   "id": "17a66e4b",
   "metadata": {},
   "outputs": [],
   "source": [
    "import numpy\n",
    "#alex stupid"
   ]
  }
 ],
 "metadata": {
  "kernelspec": {
   "display_name": "myenv",
   "language": "python",
   "name": "python3"
  },
  "language_info": {
   "name": "python",
   "version": "3.11.10"
  }
 },
 "nbformat": 4,
 "nbformat_minor": 5
}
